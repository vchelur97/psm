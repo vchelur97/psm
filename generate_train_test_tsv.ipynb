{
 "cells": [
  {
   "cell_type": "code",
   "execution_count": 32,
   "metadata": {},
   "outputs": [],
   "source": [
    "# required_rows = []\n",
    "# scan_numbers = set()\n",
    "# current_peptides = []\n",
    "# with open(\"../data.tsv\", \"r\") as tsv_file:\n",
    "#     reader = csv.reader(tsv_file, delimiter='\\t')\n",
    "#     header = next(reader)  # Skip the header row\n",
    "#     for row in reader:\n",
    "#         filepath = row[-1]\n",
    "#         peptide = row[9]\n",
    "#         scan_number = int(row[2])\n",
    "#         if filepath in train_mzml_files:\n",
    "#             if scan_number not in scan_numbers:\n",
    "#                 current_peptides = []\n",
    "#                 current_peptides.append(peptide)\n",
    "#                 count = 1\n",
    "#                 required_rows.append(row)\n",
    "#                 scan_numbers.add(scan_number)\n",
    "#             elif scan_number in scan_numbers:\n",
    "#                 if peptide in current_peptides:\n",
    "#                     continue\n",
    "#                 elif count < 5:\n",
    "#                     count += 1\n",
    "#                     continue\n",
    "#                 elif count >= 5 and count < 8:\n",
    "#                     count += 1\n",
    "#                     required_rows.append(row)\n",
    "#                     current_peptides.append(peptide)\n",
    "#                 elif count >= 8 and len(current_peptides) < 4 and peptide not in current_peptides:\n",
    "#                     count += 1\n",
    "#                     required_rows.append(row)\n",
    "#                     current_peptides.append(peptide)\n",
    "#                 else:\n",
    "#                     continue\n",
    "        \n",
    "# with open(\"train.csv\", \"w\", newline='') as train_file:\n",
    "#     writer = csv.writer(train_file)\n",
    "#     writer.writerow(header)\n",
    "#     writer.writerows(required_rows)\n",
    "\n"
   ]
  },
  {
   "cell_type": "code",
   "execution_count": 30,
   "metadata": {},
   "outputs": [],
   "source": [
    "def get_unique_mzml_files(filename):\n",
    "    unique_mzml_files = set()\n",
    "    with open(filename, \"r\") as tsv_file:\n",
    "        reader = csv.reader(tsv_file, delimiter='\\t')\n",
    "        header = next(reader)  # Skip the header row\n",
    "        for row in reader:\n",
    "            filepath = row[-1]\n",
    "            if filepath not in unique_mzml_files:\n",
    "                unique_mzml_files.add(filepath)\n",
    "            if len(unique_mzml_files) >= 2:\n",
    "                break\n",
    "    return list(unique_mzml_files)\n",
    "\n",
    "train_mzml_files = get_unique_mzml_files(\"./data/raw/train_data.tsv\")\n",
    "test_mzml_files = get_unique_mzml_files(\"./data/raw/test_data.tsv\")"
   ]
  },
  {
   "cell_type": "code",
   "execution_count": 31,
   "metadata": {},
   "outputs": [
    {
     "data": {
      "text/plain": [
       "['MSV000083508/ccms_peak/lung/Trypsin_HCD_QExactiveplus/01279_B03_P013163_B00_N18_R1.mzML',\n",
       " 'MSV000083508/ccms_peak/lung/Trypsin_HCD_QExactiveplus/01088_A05_P010740_S00_N33_R1.mzML']"
      ]
     },
     "execution_count": 31,
     "metadata": {},
     "output_type": "execute_result"
    }
   ],
   "source": [
    "train_mzml_files"
   ]
  },
  {
   "cell_type": "code",
   "execution_count": 41,
   "metadata": {},
   "outputs": [],
   "source": [
    "import csv\n",
    "\n",
    "def generate_tsv(unique_mzml_files, data_filename):\n",
    "    required_rows = []\n",
    "    scan_numbers = set()\n",
    "    current_peptides = []\n",
    "    with open(data_filename, \"r\") as tsv_file:\n",
    "        reader = csv.reader(tsv_file, delimiter='\\t')\n",
    "        header = next(reader)  # Skip the header row\n",
    "        for row in reader:\n",
    "            filepath = row[-1]\n",
    "            peptide = row[9]\n",
    "            scan_number = int(row[2])\n",
    "            if filepath in unique_mzml_files:\n",
    "                if scan_number not in scan_numbers:\n",
    "                    current_peptides = []\n",
    "                    current_peptides.append(peptide)\n",
    "                    count = 1\n",
    "                    required_rows.append(row)\n",
    "                    scan_numbers.add(scan_number)\n",
    "                elif scan_number in scan_numbers:\n",
    "                    if peptide in current_peptides:\n",
    "                        continue\n",
    "                    elif count < 5:\n",
    "                        count += 1\n",
    "                        continue\n",
    "                    elif count >= 5 and count < 8:\n",
    "                        count += 1\n",
    "                        required_rows.append(row)\n",
    "                        current_peptides.append(peptide)\n",
    "                    elif count >= 8 and len(current_peptides) < 4 and peptide not in current_peptides:\n",
    "                        count += 1\n",
    "                        required_rows.append(row)\n",
    "                        current_peptides.append(peptide)\n",
    "                    else:\n",
    "                        continue\n",
    "    return header, required_rows"
   ]
  },
  {
   "cell_type": "code",
   "execution_count": null,
   "metadata": {},
   "outputs": [],
   "source": [
    "header, train_rows = generate_tsv(train_mzml_files, \"./data/raw/train_data.tsv\")\n",
    "header, test_rows = generate_tsv(test_mzml_files, \"./data/raw/test_data.tsv\")"
   ]
  },
  {
   "cell_type": "code",
   "execution_count": 26,
   "metadata": {},
   "outputs": [],
   "source": [
    "def write_tsv(header, required_rows, filename):\n",
    "    with open(filename, \"w\") as tsv_file:\n",
    "        writer = csv.writer(tsv_file, delimiter='\\t', lineterminator='\\n')\n",
    "        writer.writerow(header)\n",
    "        writer.writerows(required_rows)\n"
   ]
  },
  {
   "cell_type": "code",
   "execution_count": 37,
   "metadata": {},
   "outputs": [],
   "source": [
    "write_tsv(header, train_rows, \"train.tsv\")"
   ]
  },
  {
   "cell_type": "code",
   "execution_count": 40,
   "metadata": {},
   "outputs": [],
   "source": [
    "write_tsv(header, test_rows, \"test.tsv\")"
   ]
  },
  {
   "cell_type": "code",
   "execution_count": null,
   "metadata": {},
   "outputs": [],
   "source": []
  }
 ],
 "metadata": {
  "kernelspec": {
   "display_name": "Python 3",
   "language": "python",
   "name": "python3"
  },
  "language_info": {
   "codemirror_mode": {
    "name": "ipython",
    "version": 3
   },
   "file_extension": ".py",
   "mimetype": "text/x-python",
   "name": "python",
   "nbconvert_exporter": "python",
   "pygments_lexer": "ipython3",
   "version": "3.10.11"
  },
  "orig_nbformat": 4
 },
 "nbformat": 4,
 "nbformat_minor": 2
}
